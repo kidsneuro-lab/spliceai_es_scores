{
 "cells": [
  {
   "cell_type": "code",
   "execution_count": 1,
   "id": "479c5e59",
   "metadata": {},
   "outputs": [],
   "source": [
    "import pandas as pd\n",
    "import numpy as np\n",
    "import vcfpy"
   ]
  },
  {
   "cell_type": "code",
   "execution_count": 52,
   "id": "177fffc8",
   "metadata": {},
   "outputs": [],
   "source": [
    "reader = vcfpy.Reader.from_path(\"spliceai_es_scores.output.vcf.gz\")"
   ]
  },
  {
   "cell_type": "code",
   "execution_count": 53,
   "id": "2803d629",
   "metadata": {},
   "outputs": [],
   "source": [
    "with open('spliceai_es_scores.bed', 'w') as f:\n",
    "    f.write(\"track name=SpliceAI_donor_acceptor_ref_scores description=\\\"SpliceAI Donor, Acceptor scores\\\" useScore=1\\n\")\n",
    "    \n",
    "    for record in reader:\n",
    "        if 'SpliceAI'in record.INFO.keys():\n",
    "            if record.ID[0][-1]==\"D\":\n",
    "                spliceai_score = record.INFO['SpliceAI'][0].split('|')[16]\n",
    "            else:\n",
    "                spliceai_score = record.INFO['SpliceAI'][0].split('|')[12]\n",
    "\n",
    "        spliceai_igv_score = int(float(spliceai_score) * 1000)\n",
    "\n",
    "        bed_string = f\"{record.CHROM}\\t{record.POS-1}\\t{record.POS}\\t{spliceai_score}\\t{spliceai_igv_score}\\t.\\t{record.POS-1}\\t{record.POS}\\n\"\n",
    "        f.write(bed_string)"
   ]
  },
  {
   "cell_type": "code",
   "execution_count": null,
   "id": "4a01130b",
   "metadata": {},
   "outputs": [],
   "source": []
  }
 ],
 "metadata": {
  "kernelspec": {
   "display_name": "Python 3 (ipykernel)",
   "language": "python",
   "name": "python3"
  },
  "language_info": {
   "codemirror_mode": {
    "name": "ipython",
    "version": 3
   },
   "file_extension": ".py",
   "mimetype": "text/x-python",
   "name": "python",
   "nbconvert_exporter": "python",
   "pygments_lexer": "ipython3",
   "version": "3.9.11"
  }
 },
 "nbformat": 4,
 "nbformat_minor": 5
}
